{
 "cells": [
  {
   "cell_type": "markdown",
   "id": "ba07c45c-ffdf-4586-ad66-1e84f5061670",
   "metadata": {},
   "source": [
    "# Amazon Reviews"
   ]
  },
  {
   "cell_type": "markdown",
   "id": "4832edb3-836b-4933-8d6a-43717446ea7b",
   "metadata": {},
   "source": [
    "## Imports & Readings\n"
   ]
  },
  {
   "cell_type": "code",
   "execution_count": 16,
   "id": "93263e48-de4c-4e2b-b868-0a79339227f1",
   "metadata": {},
   "outputs": [],
   "source": [
    "import pandas as pd\n",
    "import numpy as np\n",
    "import matplotlib.pyplot as plt\n",
    "import seaborn as sns\n",
    "import os\n",
    "\n",
    "#os.getcwd()"
   ]
  },
  {
   "cell_type": "code",
   "execution_count": 17,
   "id": "731afc77-1558-42d9-8065-774b89c2da06",
   "metadata": {},
   "outputs": [],
   "source": [
    "amazon_train = pd.read_csv('datasets/review_train.csv')\n",
    "amazon_test = pd.read_csv('datasets/review_test.csv')\n"
   ]
  },
  {
   "cell_type": "code",
   "execution_count": 18,
   "id": "49c8fc6a-ae55-4e48-bc04-d70b236692e0",
   "metadata": {},
   "outputs": [
    {
     "name": "stdout",
     "output_type": "stream",
     "text": [
      "    ID  V1  V2  V3  V4  V5  V6  V7  V8  V9  ...  V9991  V9992  V9993  V9994  \\\n",
      "0  750  23   6   4   7  11   0   5   2   6  ...      0      0      1      0   \n",
      "1  751  20  12  15   6   9  14   2   6   2  ...      1      3      0      0   \n",
      "2  752  13  10  10   5  12   5   3   4   5  ...      1      0      1      0   \n",
      "3  753  14  15   6   1   7   2   7   2   5  ...      0      0      1      2   \n",
      "4  754   9   8   3   4  10   3   2   2   1  ...      0      0      0      0   \n",
      "\n",
      "   V9995  V9996  V9997  V9998  V9999  V10000  \n",
      "0      0      0      0      0      0       0  \n",
      "1      0      0      0      0      0       0  \n",
      "2      0      0      1      0      1       1  \n",
      "3      0      2      1      0      1       0  \n",
      "4      0      0      0      0      1       0  \n",
      "\n",
      "[5 rows x 10001 columns]\n",
      "(750, 10001)\n"
     ]
    }
   ],
   "source": [
    "#display(amazon_train)\n",
    "#amazon_train.head()\n",
    "print(amazon_test.head())\n",
    "print(amazon_test.shape)"
   ]
  },
  {
   "cell_type": "code",
   "execution_count": 19,
   "id": "6b9b1e91-500d-48e4-88f5-ccd9784b8985",
   "metadata": {},
   "outputs": [
    {
     "name": "stdout",
     "output_type": "stream",
     "text": [
      "      ID  V1  V2  V3  V4  V5  V6  V7  V8  V9  ...  V9992  V9993  V9994  V9995  \\\n",
      "0      0  17   4   8   8   9   4   0   2   3  ...      0      0      0      0   \n",
      "1      1  21   9   5   8   6   2  16   3  12  ...      0      0      0      2   \n",
      "2      2   9   7   6   3   8   2   9   4   4  ...      0      0      0      0   \n",
      "3      3   8   3   5   2   4   3   8   2   4  ...      0      0      1      0   \n",
      "4      4  15   8   8   4   7   8   4   7   1  ...      0      0      0      0   \n",
      "..   ...  ..  ..  ..  ..  ..  ..  ..  ..  ..  ...    ...    ...    ...    ...   \n",
      "745  745   8   1   5   6   0   5   2   2   2  ...      0      0      0      1   \n",
      "746  746  13   7   3   4   7   4   2   3   5  ...      0      0      0      0   \n",
      "747  747  13   8   6   6  11   0  11   2   4  ...      1      0      0      0   \n",
      "748  748  14  16   7   8  11   8   9   3   7  ...      0      0      0      0   \n",
      "749  749  12  11   7  11   6   1   0   2   2  ...      2      0      1      0   \n",
      "\n",
      "     V9996  V9997  V9998  V9999  V10000      Class  \n",
      "0        0      0      0      1       1       Shea  \n",
      "1        2      1      0      1       0      Riley  \n",
      "2        0      0      0      1       1    Chachra  \n",
      "3        1      0      0      0       0    Agresti  \n",
      "4        0      0      0      0       0      Nigam  \n",
      "..     ...    ...    ...    ...     ...        ...  \n",
      "745      0      0      0      1       0  Calvinnme  \n",
      "746      0      1      0      0       0       Shea  \n",
      "747      0      0      1      0       0   Cholette  \n",
      "748      0      0      0      0       0    Sherwin  \n",
      "749      0      0      0      0       0     Janson  \n",
      "\n",
      "[750 rows x 10002 columns]\n"
     ]
    }
   ],
   "source": [
    "print(amazon_train)"
   ]
  },
  {
   "cell_type": "code",
   "execution_count": null,
   "id": "76e3359d-5fe4-4b15-a765-ca6b436a2eff",
   "metadata": {},
   "outputs": [],
   "source": []
  },
  {
   "cell_type": "code",
   "execution_count": null,
   "id": "8f6e1312-44ab-4073-a29f-99dff4b72fa7",
   "metadata": {},
   "outputs": [],
   "source": []
  },
  {
   "cell_type": "code",
   "execution_count": null,
   "id": "e0060027-a779-41d2-9442-7fddc99eef1f",
   "metadata": {},
   "outputs": [],
   "source": []
  }
 ],
 "metadata": {
  "kernelspec": {
   "display_name": "Python 3 (ipykernel)",
   "language": "python",
   "name": "python3"
  },
  "language_info": {
   "codemirror_mode": {
    "name": "ipython",
    "version": 3
   },
   "file_extension": ".py",
   "mimetype": "text/x-python",
   "name": "python",
   "nbconvert_exporter": "python",
   "pygments_lexer": "ipython3",
   "version": "3.11.7"
  }
 },
 "nbformat": 4,
 "nbformat_minor": 5
}
