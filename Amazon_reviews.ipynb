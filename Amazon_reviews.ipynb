{
 "cells": [
  {
   "cell_type": "markdown",
   "id": "ba07c45c-ffdf-4586-ad66-1e84f5061670",
   "metadata": {},
   "source": [
    "# Amazon Reviews"
   ]
  },
  {
   "cell_type": "markdown",
   "id": "4832edb3-836b-4933-8d6a-43717446ea7b",
   "metadata": {},
   "source": [
    "## Imports & Readings\n"
   ]
  },
  {
   "cell_type": "code",
   "execution_count": 3,
   "id": "93263e48-de4c-4e2b-b868-0a79339227f1",
   "metadata": {},
   "outputs": [],
   "source": [
    "import pandas as pd\n",
    "import numpy as np\n",
    "import matplotlib.pyplot as plt\n",
    "import seaborn as sns\n",
    "import os\n",
    "\n",
    "#os.getcwd()"
   ]
  },
  {
   "cell_type": "code",
   "execution_count": 5,
   "id": "731afc77-1558-42d9-8065-774b89c2da06",
   "metadata": {},
   "outputs": [
    {
     "name": "stdout",
     "output_type": "stream",
     "text": [
      "TEst\n"
     ]
    }
   ],
   "source": [
    "amazon_train = pd.read_csv('datasets/test_amazon_review.csv')\n",
    "amazon_test = pd.read_csv('datasets/train_amazon_review.csv')\n",
    "\n",
    "\n",
    "print(\"TEst\")"
   ]
  },
  {
   "cell_type": "code",
   "execution_count": null,
   "id": "49c8fc6a-ae55-4e48-bc04-d70b236692e0",
   "metadata": {},
   "outputs": [],
   "source": [
    "display(amazon_train)\n",
    "amazon_train.shape"
   ]
  },
  {
   "cell_type": "code",
   "execution_count": null,
   "id": "6b9b1e91-500d-48e4-88f5-ccd9784b8985",
   "metadata": {},
   "outputs": [],
   "source": [
    "DataFrame.pivot"
   ]
  },
  {
   "cell_type": "code",
   "execution_count": null,
   "id": "76e3359d-5fe4-4b15-a765-ca6b436a2eff",
   "metadata": {},
   "outputs": [],
   "source": []
  },
  {
   "cell_type": "code",
   "execution_count": null,
   "id": "8f6e1312-44ab-4073-a29f-99dff4b72fa7",
   "metadata": {},
   "outputs": [],
   "source": []
  },
  {
   "cell_type": "code",
   "execution_count": null,
   "id": "e0060027-a779-41d2-9442-7fddc99eef1f",
   "metadata": {},
   "outputs": [],
   "source": []
  }
 ],
 "metadata": {
  "kernelspec": {
   "display_name": "Python 3 (ipykernel)",
   "language": "python",
   "name": "python3"
  },
  "language_info": {
   "codemirror_mode": {
    "name": "ipython",
    "version": 3
   },
   "file_extension": ".py",
   "mimetype": "text/x-python",
   "name": "python",
   "nbconvert_exporter": "python",
   "pygments_lexer": "ipython3",
   "version": "3.11.7"
  }
 },
 "nbformat": 4,
 "nbformat_minor": 5
}
